{
 "cells": [
  {
   "cell_type": "code",
   "execution_count": 2,
   "id": "2ff46ee0",
   "metadata": {},
   "outputs": [],
   "source": [
    "import pandas as pd\n",
    "import numpy as np\n",
    "import matplotlib.pyplot as plt\n",
    "import seaborn as sns"
   ]
  },
  {
   "cell_type": "code",
   "execution_count": 3,
   "id": "27be5821",
   "metadata": {},
   "outputs": [],
   "source": [
    "df=pd.read_csv('tested.csv')"
   ]
  },
  {
   "cell_type": "code",
   "execution_count": 4,
   "id": "875a7aff",
   "metadata": {},
   "outputs": [
    {
     "name": "stdout",
     "output_type": "stream",
     "text": [
      "<class 'pandas.core.frame.DataFrame'>\n",
      "RangeIndex: 418 entries, 0 to 417\n",
      "Data columns (total 12 columns):\n",
      " #   Column       Non-Null Count  Dtype  \n",
      "---  ------       --------------  -----  \n",
      " 0   PassengerId  418 non-null    int64  \n",
      " 1   Survived     418 non-null    int64  \n",
      " 2   Pclass       418 non-null    int64  \n",
      " 3   Name         418 non-null    object \n",
      " 4   Sex          418 non-null    object \n",
      " 5   Age          332 non-null    float64\n",
      " 6   SibSp        418 non-null    int64  \n",
      " 7   Parch        418 non-null    int64  \n",
      " 8   Ticket       418 non-null    object \n",
      " 9   Fare         417 non-null    float64\n",
      " 10  Cabin        91 non-null     object \n",
      " 11  Embarked     418 non-null    object \n",
      "dtypes: float64(2), int64(5), object(5)\n",
      "memory usage: 39.3+ KB\n"
     ]
    }
   ],
   "source": [
    "df.info()"
   ]
  },
  {
   "cell_type": "code",
   "execution_count": 22,
   "id": "08e168ae",
   "metadata": {},
   "outputs": [
    {
     "data": {
      "text/plain": [
       "(418, 12)"
      ]
     },
     "execution_count": 22,
     "metadata": {},
     "output_type": "execute_result"
    }
   ],
   "source": [
    "df.shape"
   ]
  },
  {
   "cell_type": "code",
   "execution_count": 72,
   "id": "d2604f26",
   "metadata": {},
   "outputs": [
    {
     "data": {
      "text/html": [
       "<div>\n",
       "<style scoped>\n",
       "    .dataframe tbody tr th:only-of-type {\n",
       "        vertical-align: middle;\n",
       "    }\n",
       "\n",
       "    .dataframe tbody tr th {\n",
       "        vertical-align: top;\n",
       "    }\n",
       "\n",
       "    .dataframe thead th {\n",
       "        text-align: right;\n",
       "    }\n",
       "</style>\n",
       "<table border=\"1\" class=\"dataframe\">\n",
       "  <thead>\n",
       "    <tr style=\"text-align: right;\">\n",
       "      <th></th>\n",
       "      <th>PassengerId</th>\n",
       "      <th>Survived</th>\n",
       "      <th>Pclass</th>\n",
       "      <th>Name</th>\n",
       "      <th>Sex</th>\n",
       "      <th>Age</th>\n",
       "      <th>SibSp</th>\n",
       "      <th>Parch</th>\n",
       "      <th>Ticket</th>\n",
       "      <th>Fare</th>\n",
       "      <th>Cabin</th>\n",
       "      <th>Embarked</th>\n",
       "    </tr>\n",
       "  </thead>\n",
       "  <tbody>\n",
       "    <tr>\n",
       "      <th>0</th>\n",
       "      <td>892</td>\n",
       "      <td>0</td>\n",
       "      <td>3</td>\n",
       "      <td>Kelly, Mr. James</td>\n",
       "      <td>male</td>\n",
       "      <td>34.5</td>\n",
       "      <td>0</td>\n",
       "      <td>0</td>\n",
       "      <td>330911</td>\n",
       "      <td>7.8292</td>\n",
       "      <td>NaN</td>\n",
       "      <td>Q</td>\n",
       "    </tr>\n",
       "    <tr>\n",
       "      <th>1</th>\n",
       "      <td>893</td>\n",
       "      <td>1</td>\n",
       "      <td>3</td>\n",
       "      <td>Wilkes, Mrs. James (Ellen Needs)</td>\n",
       "      <td>female</td>\n",
       "      <td>47.0</td>\n",
       "      <td>1</td>\n",
       "      <td>0</td>\n",
       "      <td>363272</td>\n",
       "      <td>7.0000</td>\n",
       "      <td>NaN</td>\n",
       "      <td>S</td>\n",
       "    </tr>\n",
       "    <tr>\n",
       "      <th>2</th>\n",
       "      <td>894</td>\n",
       "      <td>0</td>\n",
       "      <td>2</td>\n",
       "      <td>Myles, Mr. Thomas Francis</td>\n",
       "      <td>male</td>\n",
       "      <td>62.0</td>\n",
       "      <td>0</td>\n",
       "      <td>0</td>\n",
       "      <td>240276</td>\n",
       "      <td>9.6875</td>\n",
       "      <td>NaN</td>\n",
       "      <td>Q</td>\n",
       "    </tr>\n",
       "    <tr>\n",
       "      <th>3</th>\n",
       "      <td>895</td>\n",
       "      <td>0</td>\n",
       "      <td>3</td>\n",
       "      <td>Wirz, Mr. Albert</td>\n",
       "      <td>male</td>\n",
       "      <td>27.0</td>\n",
       "      <td>0</td>\n",
       "      <td>0</td>\n",
       "      <td>315154</td>\n",
       "      <td>8.6625</td>\n",
       "      <td>NaN</td>\n",
       "      <td>S</td>\n",
       "    </tr>\n",
       "    <tr>\n",
       "      <th>4</th>\n",
       "      <td>896</td>\n",
       "      <td>1</td>\n",
       "      <td>3</td>\n",
       "      <td>Hirvonen, Mrs. Alexander (Helga E Lindqvist)</td>\n",
       "      <td>female</td>\n",
       "      <td>22.0</td>\n",
       "      <td>1</td>\n",
       "      <td>1</td>\n",
       "      <td>3101298</td>\n",
       "      <td>12.2875</td>\n",
       "      <td>NaN</td>\n",
       "      <td>S</td>\n",
       "    </tr>\n",
       "  </tbody>\n",
       "</table>\n",
       "</div>"
      ],
      "text/plain": [
       "   PassengerId  Survived  Pclass  \\\n",
       "0          892         0       3   \n",
       "1          893         1       3   \n",
       "2          894         0       2   \n",
       "3          895         0       3   \n",
       "4          896         1       3   \n",
       "\n",
       "                                           Name     Sex   Age  SibSp  Parch  \\\n",
       "0                              Kelly, Mr. James    male  34.5      0      0   \n",
       "1              Wilkes, Mrs. James (Ellen Needs)  female  47.0      1      0   \n",
       "2                     Myles, Mr. Thomas Francis    male  62.0      0      0   \n",
       "3                              Wirz, Mr. Albert    male  27.0      0      0   \n",
       "4  Hirvonen, Mrs. Alexander (Helga E Lindqvist)  female  22.0      1      1   \n",
       "\n",
       "    Ticket     Fare Cabin Embarked  \n",
       "0   330911   7.8292   NaN        Q  \n",
       "1   363272   7.0000   NaN        S  \n",
       "2   240276   9.6875   NaN        Q  \n",
       "3   315154   8.6625   NaN        S  \n",
       "4  3101298  12.2875   NaN        S  "
      ]
     },
     "execution_count": 72,
     "metadata": {},
     "output_type": "execute_result"
    }
   ],
   "source": [
    "df.head()"
   ]
  },
  {
   "cell_type": "code",
   "execution_count": 26,
   "id": "fd97b21d",
   "metadata": {},
   "outputs": [
    {
     "data": {
      "text/plain": [
       "Sex\n",
       "female    152\n",
       "male      266\n",
       "Name: Sex, dtype: int64"
      ]
     },
     "execution_count": 26,
     "metadata": {},
     "output_type": "execute_result"
    }
   ],
   "source": [
    "df.groupby('Sex')['Sex'].count()"
   ]
  },
  {
   "cell_type": "code",
   "execution_count": 25,
   "id": "f56608c6",
   "metadata": {},
   "outputs": [
    {
     "data": {
      "text/plain": [
       "Sex\n",
       "female    36.363636\n",
       "male      63.636364\n",
       "Name: Sex, dtype: float64"
      ]
     },
     "execution_count": 25,
     "metadata": {},
     "output_type": "execute_result"
    }
   ],
   "source": [
    "df.groupby('Sex')['Sex'].count()/df.shape[0]*100"
   ]
  },
  {
   "cell_type": "markdown",
   "id": "cd90f3f9",
   "metadata": {},
   "source": [
    "####  Q1 How many total passengers is titanic ? \n",
    "There are total of 418 passenger out of which  152 Female and 266 Male in the dataset  with percentage of 36% F and 63% M"
   ]
  },
  {
   "cell_type": "code",
   "execution_count": 31,
   "id": "ddf6154b",
   "metadata": {},
   "outputs": [
    {
     "data": {
      "text/plain": [
       "Age\n",
       "21.0    17\n",
       "24.0    17\n",
       "22.0    16\n",
       "30.0    15\n",
       "18.0    13\n",
       "        ..\n",
       "34.0     1\n",
       "34.5     1\n",
       "36.5     1\n",
       "38.5     1\n",
       "76.0     1\n",
       "Name: Sex, Length: 79, dtype: int64"
      ]
     },
     "execution_count": 31,
     "metadata": {},
     "output_type": "execute_result"
    }
   ],
   "source": [
    "df.groupby('Age')['Sex'].count().sort_values(ascending=False)"
   ]
  },
  {
   "cell_type": "markdown",
   "id": "c203ee8a",
   "metadata": {},
   "source": [
    "#### Q2 What are the most age groups of  passengers in titanic?\n",
    "21 ,22 ,24 and 30 age group passenger "
   ]
  },
  {
   "cell_type": "code",
   "execution_count": 41,
   "id": "4ae08ac4",
   "metadata": {},
   "outputs": [
    {
     "data": {
      "text/html": [
       "<div>\n",
       "<style scoped>\n",
       "    .dataframe tbody tr th:only-of-type {\n",
       "        vertical-align: middle;\n",
       "    }\n",
       "\n",
       "    .dataframe tbody tr th {\n",
       "        vertical-align: top;\n",
       "    }\n",
       "\n",
       "    .dataframe thead th {\n",
       "        text-align: right;\n",
       "    }\n",
       "</style>\n",
       "<table border=\"1\" class=\"dataframe\">\n",
       "  <thead>\n",
       "    <tr style=\"text-align: right;\">\n",
       "      <th></th>\n",
       "      <th>PassengerId</th>\n",
       "      <th>Survived</th>\n",
       "      <th>Pclass</th>\n",
       "      <th>Name</th>\n",
       "      <th>Sex</th>\n",
       "      <th>Age</th>\n",
       "      <th>SibSp</th>\n",
       "      <th>Parch</th>\n",
       "      <th>Ticket</th>\n",
       "      <th>Fare</th>\n",
       "      <th>Cabin</th>\n",
       "      <th>Embarked</th>\n",
       "    </tr>\n",
       "  </thead>\n",
       "  <tbody>\n",
       "    <tr>\n",
       "      <th>343</th>\n",
       "      <td>1235</td>\n",
       "      <td>1</td>\n",
       "      <td>1</td>\n",
       "      <td>Cardeza, Mrs. James Warburton Martinez (Charlo...</td>\n",
       "      <td>female</td>\n",
       "      <td>58.0</td>\n",
       "      <td>0</td>\n",
       "      <td>1</td>\n",
       "      <td>PC 17755</td>\n",
       "      <td>512.3292</td>\n",
       "      <td>B51 B53 B55</td>\n",
       "      <td>C</td>\n",
       "    </tr>\n",
       "  </tbody>\n",
       "</table>\n",
       "</div>"
      ],
      "text/plain": [
       "     PassengerId  Survived  Pclass  \\\n",
       "343         1235         1       1   \n",
       "\n",
       "                                                  Name     Sex   Age  SibSp  \\\n",
       "343  Cardeza, Mrs. James Warburton Martinez (Charlo...  female  58.0      0   \n",
       "\n",
       "     Parch    Ticket      Fare        Cabin Embarked  \n",
       "343      1  PC 17755  512.3292  B51 B53 B55        C  "
      ]
     },
     "execution_count": 41,
     "metadata": {},
     "output_type": "execute_result"
    }
   ],
   "source": [
    "df[df['Fare']==df['Fare'].max()]"
   ]
  },
  {
   "cell_type": "markdown",
   "id": "93cfe5f8",
   "metadata": {},
   "source": [
    "####  Q3 Who's fare is the most expensive in titanic ?\n",
    "Cardeza, Mrs. James Warburton Martinez (Charlo. a female who's fare 512.3292 is the maximum fare in titanic dataset and there age is 58"
   ]
  },
  {
   "cell_type": "code",
   "execution_count": 57,
   "id": "92b5aa8b",
   "metadata": {},
   "outputs": [
    {
     "data": {
      "text/plain": [
       "Pclass\n",
       "1    107\n",
       "2     93\n",
       "3    218\n",
       "Name: Sex, dtype: int64"
      ]
     },
     "execution_count": 57,
     "metadata": {},
     "output_type": "execute_result"
    }
   ],
   "source": [
    "df.groupby('Pclass')['Sex'].count()"
   ]
  },
  {
   "cell_type": "markdown",
   "id": "245b1276",
   "metadata": {},
   "source": [
    "#### Q4 Group by passengers from There class?\n",
    "There are 107 passenger from class 1 /\n",
    "\n",
    "93 passenger from class 2 and \n",
    "\n",
    "218 from class 3"
   ]
  },
  {
   "cell_type": "code",
   "execution_count": 64,
   "id": "d91602e5",
   "metadata": {},
   "outputs": [
    {
     "data": {
      "text/plain": [
       "188                Sage, Miss. Ada\n",
       "360    Sage, Master. William Henry\n",
       "Name: Name, dtype: object"
      ]
     },
     "execution_count": 64,
     "metadata": {},
     "output_type": "execute_result"
    }
   ],
   "source": [
    "df[df.loc[:,'SibSp']==df['SibSp'].max()]['Name']"
   ]
  },
  {
   "cell_type": "markdown",
   "id": "1fa06844",
   "metadata": {},
   "source": [
    "#### Q5 There  is a couple who has maximum number of siblings in Titanic ? Who are they \n",
    "188 ID                Sage, Miss. Ada Female\n",
    "\n",
    "360 ID   Sage, Master. William Henry Male"
   ]
  },
  {
   "cell_type": "code",
   "execution_count": 67,
   "id": "19434284",
   "metadata": {},
   "outputs": [
    {
     "data": {
      "text/plain": [
       "Embarked\n",
       "C    24.401914\n",
       "Q    11.004785\n",
       "S    64.593301\n",
       "Name: PassengerId, dtype: float64"
      ]
     },
     "execution_count": 67,
     "metadata": {},
     "output_type": "execute_result"
    }
   ],
   "source": [
    "df.groupby('Embarked').count()['PassengerId']/df.shape[0]*100"
   ]
  },
  {
   "cell_type": "markdown",
   "id": "4a471ec4",
   "metadata": {},
   "source": [
    "#### Q6  How many passengers from C = Cherbourg Q = Queenstown S = Southampton ?\n",
    "64% from S/Southampton\n",
    "\n",
    "24% from C/Cherbourg \n",
    "\n",
    "11% from Q/Queenstown\n"
   ]
  },
  {
   "cell_type": "code",
   "execution_count": 73,
   "id": "876b5b99",
   "metadata": {},
   "outputs": [
    {
     "data": {
      "text/plain": [
       "327"
      ]
     },
     "execution_count": 73,
     "metadata": {},
     "output_type": "execute_result"
    }
   ],
   "source": [
    "df['Cabin'].isna().sum()"
   ]
  },
  {
   "cell_type": "markdown",
   "id": "18a22ca1",
   "metadata": {},
   "source": [
    "#### Q7 How many cabin information is not listed in dataset of Titanic?\n",
    "There are 327 passenger who's cabin information is not there "
   ]
  },
  {
   "cell_type": "code",
   "execution_count": 93,
   "id": "d0c4b989",
   "metadata": {},
   "outputs": [
    {
     "data": {
      "text/plain": [
       "343    Cardeza, Mrs. James Warburton Martinez (Charlo...\n",
       "53                            Fortune, Miss. Ethel Flora\n",
       "69                   Fortune, Mrs. Mark (Mary McDougald)\n",
       "24       Ryerson, Mrs. Arthur Larned (Emily Maria Borie)\n",
       "142                           Ryerson, Mr. Arthur Larned\n",
       "59                           Chaudanson, Miss. Victorine\n",
       "64                           Ryerson, Master. John Borie\n",
       "375                             Bowen, Miss. Grace Scott\n",
       "184    Douglas, Mrs. Frederick Charles (Mary Helene B...\n",
       "202                               Astor, Col. John Jacob\n",
       "Name: Name, dtype: object"
      ]
     },
     "execution_count": 93,
     "metadata": {},
     "output_type": "execute_result"
    }
   ],
   "source": [
    "df.sort_values(by='Fare',ascending=False).head(10)['Name']"
   ]
  },
  {
   "cell_type": "markdown",
   "id": "6ca71459",
   "metadata": {},
   "source": [
    "#### Q8 show me top 10 passenger name who has maximum fare in titanic?\n",
    "343    Cardeza, Mrs. James Warburton Martinez (Charlo...\n",
    "\n",
    "\n",
    "53                            Fortune, Miss. Ethel Flora\n",
    "\n",
    "\n",
    "69                   Fortune, Mrs. Mark (Mary McDougald)\n",
    "\n",
    "\n",
    "24       Ryerson, Mrs. Arthur Larned (Emily Maria Borie)\n",
    "\n",
    "\n",
    "142                           Ryerson, Mr. Arthur \n",
    "\n",
    "\n",
    "59                           Chaudanson, Miss. Victorine\n",
    "\n",
    "\n",
    "64                           Ryerson, Master. John Borie\n",
    "\n",
    "\n",
    "375                             Bowen, Miss. Grace Scott\n",
    "\n",
    "\n",
    "184    Douglas, Mrs. Frederick Charles (Mary Helene B...\n",
    "\n",
    "\n",
    "202                               Astor, Col. John Jacob"
   ]
  },
  {
   "cell_type": "code",
   "execution_count": 98,
   "id": "d146828a",
   "metadata": {},
   "outputs": [
    {
     "data": {
      "text/html": [
       "<div>\n",
       "<style scoped>\n",
       "    .dataframe tbody tr th:only-of-type {\n",
       "        vertical-align: middle;\n",
       "    }\n",
       "\n",
       "    .dataframe tbody tr th {\n",
       "        vertical-align: top;\n",
       "    }\n",
       "\n",
       "    .dataframe thead th {\n",
       "        text-align: right;\n",
       "    }\n",
       "</style>\n",
       "<table border=\"1\" class=\"dataframe\">\n",
       "  <thead>\n",
       "    <tr style=\"text-align: right;\">\n",
       "      <th></th>\n",
       "      <th>PassengerId</th>\n",
       "      <th>Survived</th>\n",
       "      <th>Pclass</th>\n",
       "      <th>Name</th>\n",
       "      <th>Sex</th>\n",
       "      <th>Age</th>\n",
       "      <th>SibSp</th>\n",
       "      <th>Parch</th>\n",
       "      <th>Ticket</th>\n",
       "      <th>Fare</th>\n",
       "      <th>Cabin</th>\n",
       "      <th>Embarked</th>\n",
       "    </tr>\n",
       "  </thead>\n",
       "  <tbody>\n",
       "    <tr>\n",
       "      <th>365</th>\n",
       "      <td>1257</td>\n",
       "      <td>1</td>\n",
       "      <td>3</td>\n",
       "      <td>Sage, Mrs. John (Annie Bullen)</td>\n",
       "      <td>female</td>\n",
       "      <td>NaN</td>\n",
       "      <td>1</td>\n",
       "      <td>9</td>\n",
       "      <td>CA. 2343</td>\n",
       "      <td>69.55</td>\n",
       "      <td>NaN</td>\n",
       "      <td>S</td>\n",
       "    </tr>\n",
       "    <tr>\n",
       "      <th>342</th>\n",
       "      <td>1234</td>\n",
       "      <td>0</td>\n",
       "      <td>3</td>\n",
       "      <td>Sage, Mr. John George</td>\n",
       "      <td>male</td>\n",
       "      <td>NaN</td>\n",
       "      <td>1</td>\n",
       "      <td>9</td>\n",
       "      <td>CA. 2343</td>\n",
       "      <td>69.55</td>\n",
       "      <td>NaN</td>\n",
       "      <td>S</td>\n",
       "    </tr>\n",
       "  </tbody>\n",
       "</table>\n",
       "</div>"
      ],
      "text/plain": [
       "     PassengerId  Survived  Pclass                            Name     Sex  \\\n",
       "365         1257         1       3  Sage, Mrs. John (Annie Bullen)  female   \n",
       "342         1234         0       3           Sage, Mr. John George    male   \n",
       "\n",
       "     Age  SibSp  Parch    Ticket   Fare Cabin Embarked  \n",
       "365  NaN      1      9  CA. 2343  69.55   NaN        S  \n",
       "342  NaN      1      9  CA. 2343  69.55   NaN        S  "
      ]
     },
     "execution_count": 98,
     "metadata": {},
     "output_type": "execute_result"
    }
   ],
   "source": [
    "df.sort_values(by='Parch',ascending=False).head(2)"
   ]
  },
  {
   "cell_type": "markdown",
   "id": "5ff1e0e6",
   "metadata": {},
   "source": [
    "####  Q9 Parch for parent child ! now tell me the passenger age,sex and name who has maximum Parch?\n",
    "name:Sage, Mrs. John (Annie Bullen)\tsex:female\tage:NaN Parch:9\n",
    "\n",
    "name:Sage, Mr. John George\tsex:male\tage:NaN\tParch:9"
   ]
  },
  {
   "cell_type": "code",
   "execution_count": 101,
   "id": "6d82f116",
   "metadata": {},
   "outputs": [
    {
     "data": {
      "text/plain": [
       "Sex\n",
       "female    21.5125\n",
       "male      13.0000\n",
       "Name: Fare, dtype: float64"
      ]
     },
     "execution_count": 101,
     "metadata": {},
     "output_type": "execute_result"
    }
   ],
   "source": [
    "df.groupby('Sex')['Fare'].median()"
   ]
  },
  {
   "cell_type": "markdown",
   "id": "dd9867aa",
   "metadata": {},
   "source": [
    "#### Q10 tell us avg of male and female ticket fare?\n",
    "female    21.5125\n",
    "\n",
    "male      13.0000"
   ]
  },
  {
   "cell_type": "code",
   "execution_count": null,
   "id": "1ac34429",
   "metadata": {},
   "outputs": [],
   "source": []
  }
 ],
 "metadata": {
  "kernelspec": {
   "display_name": "Python 3 (ipykernel)",
   "language": "python",
   "name": "python3"
  },
  "language_info": {
   "codemirror_mode": {
    "name": "ipython",
    "version": 3
   },
   "file_extension": ".py",
   "mimetype": "text/x-python",
   "name": "python",
   "nbconvert_exporter": "python",
   "pygments_lexer": "ipython3",
   "version": "3.10.9"
  }
 },
 "nbformat": 4,
 "nbformat_minor": 5
}
